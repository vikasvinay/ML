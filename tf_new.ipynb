{
  "nbformat": 4,
  "nbformat_minor": 0,
  "metadata": {
    "colab": {
      "name": "tensorflow.ipynb",
      "provenance": [],
      "collapsed_sections": [],
      "authorship_tag": "ABX9TyO+ztBPdxhbNrHI+LcrnLhs",
      "include_colab_link": true
    },
    "kernelspec": {
      "name": "python3",
      "display_name": "Python 3"
    },
    "language_info": {
      "name": "python"
    }
  },
  "cells": [
    {
      "cell_type": "markdown",
      "metadata": {
        "id": "view-in-github",
        "colab_type": "text"
      },
      "source": [
        "<a href=\"https://colab.research.google.com/github/vikasvinay/ML/blob/temp/tf_new.ipynb\" target=\"_parent\"><img src=\"https://colab.research.google.com/assets/colab-badge.svg\" alt=\"Open In Colab\"/></a>"
      ]
    },
    {
      "cell_type": "code",
      "metadata": {
        "colab": {
          "base_uri": "https://localhost:8080/"
        },
        "id": "G4AsEEU-coRZ",
        "outputId": "5eed361c-ca7b-4ae3-f1c0-1d80b74fe2b1"
      },
      "source": [
        "from google.colab import drive\n",
        "drive.mount(\"/content/gdrive\")\n"
      ],
      "execution_count": 3,
      "outputs": [
        {
          "output_type": "stream",
          "text": [
            "Mounted at /content/gdrive\n"
          ],
          "name": "stdout"
        }
      ]
    },
    {
      "cell_type": "code",
      "metadata": {
        "id": "aKHB14B0dntC"
      },
      "source": [
        "#Introduction to tensor"
      ],
      "execution_count": 5,
      "outputs": []
    },
    {
      "cell_type": "code",
      "metadata": {
        "id": "jOJMHIQShnLe"
      },
      "source": [
        "import tensorflow as tf\n"
      ],
      "execution_count": 6,
      "outputs": []
    },
    {
      "cell_type": "code",
      "metadata": {
        "colab": {
          "base_uri": "https://localhost:8080/"
        },
        "id": "xq8MJaCahwQ1",
        "outputId": "d192b58b-9862-451b-e142-5fc80c58f30e"
      },
      "source": [
        "#creating a tensors\n",
        "scaler = tf.constant(7)\n",
        "scaler"
      ],
      "execution_count": 7,
      "outputs": [
        {
          "output_type": "execute_result",
          "data": {
            "text/plain": [
              "<tf.Tensor: shape=(), dtype=int32, numpy=7>"
            ]
          },
          "metadata": {
            "tags": []
          },
          "execution_count": 7
        }
      ]
    },
    {
      "cell_type": "code",
      "metadata": {
        "colab": {
          "base_uri": "https://localhost:8080/"
        },
        "id": "WuYoIrY5iIYs",
        "outputId": "920afdad-f014-418d-ef42-3d110665145d"
      },
      "source": [
        "#create a vector\n",
        "vector = tf.constant([10,10])\n",
        "vector\n"
      ],
      "execution_count": 8,
      "outputs": [
        {
          "output_type": "execute_result",
          "data": {
            "text/plain": [
              "<tf.Tensor: shape=(2,), dtype=int32, numpy=array([10, 10], dtype=int32)>"
            ]
          },
          "metadata": {
            "tags": []
          },
          "execution_count": 8
        }
      ]
    },
    {
      "cell_type": "code",
      "metadata": {
        "colab": {
          "base_uri": "https://localhost:8080/"
        },
        "id": "KyXICUagiW6k",
        "outputId": "66759622-4571-4cda-c637-ae55349f82df"
      },
      "source": [
        "#creating a matrix\n",
        "matrix = tf.constant(([10,7], [5,5]))\n",
        "matrix\n",
        "matrix1 = tf.constant(([1,2,3],[4,5,6]), dtype=tf.float16)\n",
        "matrix1\n",
        "print(f\"matrix1: {matrix1} dimension: {matrix1.ndim}\")\n",
        "print(f\"matrix: {matrix} dimension: {matrix.ndim}\")"
      ],
      "execution_count": 21,
      "outputs": [
        {
          "output_type": "stream",
          "text": [
            "matrix1: [[1. 2. 3.]\n",
            " [4. 5. 6.]] dimension: 2\n",
            "matrix: [[10  7]\n",
            " [ 5  5]] dimension: 2\n"
          ],
          "name": "stdout"
        }
      ]
    },
    {
      "cell_type": "code",
      "metadata": {
        "colab": {
          "base_uri": "https://localhost:8080/"
        },
        "id": "Ss50N1HwioOT",
        "outputId": "bd932082-35a0-460f-f397-dc985367c647"
      },
      "source": [
        "#creating 3 dimension\n",
        "matrix2 = tf.constant((\n",
        "    [[\n",
        "     [1,2,3],[4,5,6],[12,34,56],\n",
        "     [1,2,3],[4,5,6],[12,34,56]\n",
        "    ],\n",
        "     [\n",
        "     [1,2,3],[4,5,6],[12,34,56],\n",
        "     [1,2,3],[4,5,6],[12,34,56]\n",
        "    ],\n",
        "     [\n",
        "     [1,2,3],[4,5,6],[12,34,56],\n",
        "     [1,2,3],[4,5,6],[12,34,56]\n",
        "    ]\n",
        "     ]\n",
        "))\n",
        "matrix2.ndim"
      ],
      "execution_count": 23,
      "outputs": [
        {
          "output_type": "execute_result",
          "data": {
            "text/plain": [
              "3"
            ]
          },
          "metadata": {
            "tags": []
          },
          "execution_count": 23
        }
      ]
    },
    {
      "cell_type": "code",
      "metadata": {
        "colab": {
          "base_uri": "https://localhost:8080/"
        },
        "id": "tdNjb_FbmHNg",
        "outputId": "96456c26-ad3a-43b9-b2cf-cf8ffd426b13"
      },
      "source": [
        "# Tensorflow variable\n",
        "var = tf.Variable(\"vinay\")\n",
        "var1 = tf.constant(([1,2,3,4]))\n",
        "var.get_shape, var1"
      ],
      "execution_count": 26,
      "outputs": [
        {
          "output_type": "execute_result",
          "data": {
            "text/plain": [
              "(<bound method Variable.get_shape of <tf.Variable 'Variable:0' shape=() dtype=string, numpy=b'vinay'>>,\n",
              " <tf.Tensor: shape=(4,), dtype=int32, numpy=array([1, 2, 3, 4], dtype=int32)>)"
            ]
          },
          "metadata": {
            "tags": []
          },
          "execution_count": 26
        }
      ]
    },
    {
      "cell_type": "code",
      "metadata": {
        "colab": {
          "base_uri": "https://localhost:8080/"
        },
        "id": "oKXAKZRlnJ1U",
        "outputId": "57e81ccb-20e7-4561-c790-22c2a301e7c8"
      },
      "source": [
        "#random tensorflow\n",
        "random_1 = tf.random.Generator.from_seed(43)\n",
        "random_1 = random_1.normal(shape=(2,2))\n",
        "random_1"
      ],
      "execution_count": 32,
      "outputs": [
        {
          "output_type": "execute_result",
          "data": {
            "text/plain": [
              "<tf.Tensor: shape=(2, 2), dtype=float32, numpy=\n",
              "array([[-0.23193763, -1.8107855 ],\n",
              "       [ 0.09988727, -0.50998646]], dtype=float32)>"
            ]
          },
          "metadata": {
            "tags": []
          },
          "execution_count": 32
        }
      ]
    },
    {
      "cell_type": "code",
      "metadata": {
        "id": "3nBYu-uBolLk"
      },
      "source": [
        ""
      ],
      "execution_count": 31,
      "outputs": []
    }
  ]
}