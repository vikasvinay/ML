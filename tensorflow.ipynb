{
  "nbformat": 4,
  "nbformat_minor": 0,
  "metadata": {
    "colab": {
      "name": "tensorflow.ipynb",
      "provenance": [],
      "authorship_tag": "ABX9TyP9XchGiMCkPsA/PW/fzbup",
      "include_colab_link": true
    },
    "kernelspec": {
      "name": "python3",
      "display_name": "Python 3"
    },
    "language_info": {
      "name": "python"
    }
  },
  "cells": [
    {
      "cell_type": "markdown",
      "metadata": {
        "id": "view-in-github",
        "colab_type": "text"
      },
      "source": [
        "<a href=\"https://colab.research.google.com/github/vikasvinay/ML/blob/tensorflow-flower/tensorflow.ipynb\" target=\"_parent\"><img src=\"https://colab.research.google.com/assets/colab-badge.svg\" alt=\"Open In Colab\"/></a>"
      ]
    },
    {
      "cell_type": "code",
      "metadata": {
        "colab": {
          "base_uri": "https://localhost:8080/"
        },
        "id": "cdnqz6rl6ANV",
        "outputId": "1b964cdb-da58-4bda-fbb7-f3abfefe2c9c"
      },
      "source": [
        "!pip install numpy\n"
      ],
      "execution_count": 1,
      "outputs": [
        {
          "output_type": "stream",
          "text": [
            "Requirement already satisfied: numpy in /usr/local/lib/python3.7/dist-packages (1.19.5)\n"
          ],
          "name": "stdout"
        }
      ]
    },
    {
      "cell_type": "code",
      "metadata": {
        "id": "lvfs_nsC48BI"
      },
      "source": [
        "import tensorflow as tf\n",
        "import os"
      ],
      "execution_count": 11,
      "outputs": []
    },
    {
      "cell_type": "markdown",
      "metadata": {
        "id": "nX2Di07qAMRE"
      },
      "source": [
        "**Preprocessing Data** "
      ]
    },
    {
      "cell_type": "code",
      "metadata": {
        "id": "pu6Lzi0V6LYI"
      },
      "source": [
        "_url = 'https://storage.googleapis.com/download.tensorflow.org/example_images/flower_photos.tgz'\n",
        "zip_file = tf.keras.utils.get_file(origin=_url, fname='flower_photos.tgz',extract=True, cache_subdir='/')\n",
        "base_dir = os.path.join(os.path.dirname(zip_file), 'flower_photos')"
      ],
      "execution_count": 12,
      "outputs": []
    },
    {
      "cell_type": "code",
      "metadata": {
        "colab": {
          "base_uri": "https://localhost:8080/"
        },
        "id": "ubMyPK-E6gwZ",
        "outputId": "16685194-302c-4c9b-a45d-68938f1779db"
      },
      "source": [
        "IMAGE_SIZE = 224\n",
        "BATCH_SIZE = 64\n",
        "dataGen = tf.keras.preprocessing.image.ImageDataGenerator(\n",
        "    rescale=1./255,\n",
        "    validation_split=0.2\n",
        ")\n",
        "train_generater = dataGen.flow_from_directory(\n",
        "    base_dir, \n",
        "    target_size=(IMAGE_SIZE,IMAGE_SIZE), \n",
        "    batch_size=BATCH_SIZE, \n",
        "    subset='training')\n",
        "\n",
        "val_genetater = dataGen.flow_from_directory(\n",
        "    base_dir, \n",
        "    target_size=(IMAGE_SIZE,IMAGE_SIZE), \n",
        "    batch_size=BATCH_SIZE, \n",
        "    subset='validation')"
      ],
      "execution_count": 13,
      "outputs": [
        {
          "output_type": "stream",
          "text": [
            "Found 2939 images belonging to 5 classes.\n",
            "Found 731 images belonging to 5 classes.\n"
          ],
          "name": "stdout"
        }
      ]
    },
    {
      "cell_type": "markdown",
      "metadata": {
        "id": "jXVFaf45Aai6"
      },
      "source": [
        "**Building Nural network**\n"
      ]
    },
    {
      "cell_type": "code",
      "metadata": {
        "colab": {
          "base_uri": "https://localhost:8080/"
        },
        "id": "hkm0ZVUVARsk",
        "outputId": "8367e684-7065-457d-ce6e-aff2cda7fac5"
      },
      "source": [
        "print(train_generater.class_indices)"
      ],
      "execution_count": 14,
      "outputs": [
        {
          "output_type": "stream",
          "text": [
            "{'daisy': 0, 'dandelion': 1, 'roses': 2, 'sunflowers': 3, 'tulips': 4}\n"
          ],
          "name": "stdout"
        }
      ]
    },
    {
      "cell_type": "code",
      "metadata": {
        "id": "gm7Krano-sxK"
      },
      "source": [
        "\n",
        "lables = '\\n'.join(sorted(train_generater.class_indices.keys()))\n",
        "with open('lables.txt','w') as f:\n",
        "  f.write(lables)"
      ],
      "execution_count": 18,
      "outputs": []
    },
    {
      "cell_type": "code",
      "metadata": {
        "colab": {
          "base_uri": "https://localhost:8080/"
        },
        "id": "nBMV9RgOBCmg",
        "outputId": "09e7da1b-2d4b-4ca4-c147-b315540e3e1f"
      },
      "source": [
        "IMAGE_SHAPE = (IMAGE_SIZE, IMAGE_SIZE, 3)\n",
        "\n",
        "base_model = tf.keras.applications.MobileNetV2(input_shape=IMAGE_SHAPE, include_top=False, weights='imagenet')"
      ],
      "execution_count": 19,
      "outputs": [
        {
          "output_type": "stream",
          "text": [
            "Downloading data from https://storage.googleapis.com/tensorflow/keras-applications/mobilenet_v2/mobilenet_v2_weights_tf_dim_ordering_tf_kernels_1.0_224_no_top.h5\n",
            "9412608/9406464 [==============================] - 0s 0us/step\n"
          ],
          "name": "stdout"
        }
      ]
    },
    {
      "cell_type": "code",
      "metadata": {
        "id": "t1C1BriqCb8e"
      },
      "source": [
        "base_model.trainable = False"
      ],
      "execution_count": 20,
      "outputs": []
    },
    {
      "cell_type": "code",
      "metadata": {
        "id": "tkl6R63-Cm6D"
      },
      "source": [
        "model = tf.keras.Sequential([\n",
        "                             base_model,\n",
        "                             tf.keras.layers.Conv2D(32,3, activation='relu'),\n",
        "                             tf.keras.layers.Dropout(0.2),\n",
        "                             tf.keras.layers.GlobalAveragePooling2D(),\n",
        "                             tf.keras.layers.Dense(5, activation= 'softmax')\n",
        "])"
      ],
      "execution_count": 23,
      "outputs": []
    },
    {
      "cell_type": "code",
      "metadata": {
        "id": "wX1T9ad3ECfm"
      },
      "source": [
        "model.compile(optimizer=tf.keras.optimizers.Adam(), loss='categorical_crossentropy', metrics=['accuracy'], )"
      ],
      "execution_count": 24,
      "outputs": []
    },
    {
      "cell_type": "code",
      "metadata": {
        "colab": {
          "base_uri": "https://localhost:8080/"
        },
        "id": "QG7cgyYLEpdr",
        "outputId": "4d286e5b-89af-4f92-84ff-3fee6c93524f"
      },
      "source": [
        "epochs = 10\n",
        "history = model.fit(train_generater,\n",
        "                    epochs=epochs,\n",
        "                    validation_data=val_genetater)"
      ],
      "execution_count": 25,
      "outputs": [
        {
          "output_type": "stream",
          "text": [
            "Epoch 1/10\n",
            "46/46 [==============================] - 137s 3s/step - loss: 1.3998 - accuracy: 0.5562 - val_loss: 0.4774 - val_accuracy: 0.8276\n",
            "Epoch 2/10\n",
            "46/46 [==============================] - 132s 3s/step - loss: 0.3303 - accuracy: 0.8853 - val_loss: 0.4398 - val_accuracy: 0.8399\n",
            "Epoch 3/10\n",
            "46/46 [==============================] - 131s 3s/step - loss: 0.2076 - accuracy: 0.9261 - val_loss: 0.4005 - val_accuracy: 0.8591\n",
            "Epoch 4/10\n",
            "46/46 [==============================] - 131s 3s/step - loss: 0.1187 - accuracy: 0.9626 - val_loss: 0.4541 - val_accuracy: 0.8564\n",
            "Epoch 5/10\n",
            "46/46 [==============================] - 131s 3s/step - loss: 0.1237 - accuracy: 0.9575 - val_loss: 0.4061 - val_accuracy: 0.8728\n",
            "Epoch 6/10\n",
            "46/46 [==============================] - 131s 3s/step - loss: 0.0576 - accuracy: 0.9848 - val_loss: 0.4318 - val_accuracy: 0.8796\n",
            "Epoch 7/10\n",
            "46/46 [==============================] - 131s 3s/step - loss: 0.0391 - accuracy: 0.9931 - val_loss: 0.4581 - val_accuracy: 0.8605\n",
            "Epoch 8/10\n",
            "46/46 [==============================] - 131s 3s/step - loss: 0.0341 - accuracy: 0.9951 - val_loss: 0.4607 - val_accuracy: 0.8687\n",
            "Epoch 9/10\n",
            "46/46 [==============================] - 131s 3s/step - loss: 0.0157 - accuracy: 0.9997 - val_loss: 0.4988 - val_accuracy: 0.8618\n",
            "Epoch 10/10\n",
            "46/46 [==============================] - 131s 3s/step - loss: 0.0145 - accuracy: 0.9991 - val_loss: 0.4776 - val_accuracy: 0.8837\n"
          ],
          "name": "stdout"
        }
      ]
    },
    {
      "cell_type": "markdown",
      "metadata": {
        "id": "7_3vmaykR_7x"
      },
      "source": [
        "**Saving as tflite**"
      ]
    },
    {
      "cell_type": "code",
      "metadata": {
        "colab": {
          "base_uri": "https://localhost:8080/"
        },
        "id": "AJDpccO8FVId",
        "outputId": "94b695e2-fc48-45ec-bb5e-fba2d33b7441"
      },
      "source": [
        "saved_model_dir = ''\n",
        "tf.saved_model.save(model, saved_model_dir)\n",
        "converter = tf.lite.TFLiteConverter.from_saved_model(saved_model_dir)\n",
        "tflite_model = converter.convert()\n",
        "\n",
        "with open('model.tflite', 'wb') as f:\n",
        "  f.write(tflite_model)\n"
      ],
      "execution_count": 27,
      "outputs": [
        {
          "output_type": "stream",
          "text": [
            "INFO:tensorflow:Assets written to: assets\n"
          ],
          "name": "stdout"
        },
        {
          "output_type": "stream",
          "text": [
            "INFO:tensorflow:Assets written to: assets\n"
          ],
          "name": "stderr"
        }
      ]
    },
    {
      "cell_type": "markdown",
      "metadata": {
        "id": "amg4VSmhS5Bo"
      },
      "source": [
        "**Download the model**"
      ]
    },
    {
      "cell_type": "code",
      "metadata": {
        "colab": {
          "base_uri": "https://localhost:8080/",
          "height": 17
        },
        "id": "9y7_ZLa1SzJa",
        "outputId": "2fa14565-c165-40c2-de55-abe16642e1ad"
      },
      "source": [
        "from google.colab import files\n",
        "files.download('model.tflite')\n",
        "# files.download('lables.txt')"
      ],
      "execution_count": 29,
      "outputs": [
        {
          "output_type": "display_data",
          "data": {
            "application/javascript": [
              "\n",
              "    async function download(id, filename, size) {\n",
              "      if (!google.colab.kernel.accessAllowed) {\n",
              "        return;\n",
              "      }\n",
              "      const div = document.createElement('div');\n",
              "      const label = document.createElement('label');\n",
              "      label.textContent = `Downloading \"${filename}\": `;\n",
              "      div.appendChild(label);\n",
              "      const progress = document.createElement('progress');\n",
              "      progress.max = size;\n",
              "      div.appendChild(progress);\n",
              "      document.body.appendChild(div);\n",
              "\n",
              "      const buffers = [];\n",
              "      let downloaded = 0;\n",
              "\n",
              "      const channel = await google.colab.kernel.comms.open(id);\n",
              "      // Send a message to notify the kernel that we're ready.\n",
              "      channel.send({})\n",
              "\n",
              "      for await (const message of channel.messages) {\n",
              "        // Send a message to notify the kernel that we're ready.\n",
              "        channel.send({})\n",
              "        if (message.buffers) {\n",
              "          for (const buffer of message.buffers) {\n",
              "            buffers.push(buffer);\n",
              "            downloaded += buffer.byteLength;\n",
              "            progress.value = downloaded;\n",
              "          }\n",
              "        }\n",
              "      }\n",
              "      const blob = new Blob(buffers, {type: 'application/binary'});\n",
              "      const a = document.createElement('a');\n",
              "      a.href = window.URL.createObjectURL(blob);\n",
              "      a.download = filename;\n",
              "      div.appendChild(a);\n",
              "      a.click();\n",
              "      div.remove();\n",
              "    }\n",
              "  "
            ],
            "text/plain": [
              "<IPython.core.display.Javascript object>"
            ]
          },
          "metadata": {
            "tags": []
          }
        },
        {
          "output_type": "display_data",
          "data": {
            "application/javascript": [
              "download(\"download_b016fdba-2226-46f5-babb-642d84101b69\", \"model.tflite\", 10378500)"
            ],
            "text/plain": [
              "<IPython.core.display.Javascript object>"
            ]
          },
          "metadata": {
            "tags": []
          }
        }
      ]
    },
    {
      "cell_type": "code",
      "metadata": {
        "id": "CG13LOVcTseh"
      },
      "source": [
        ""
      ],
      "execution_count": null,
      "outputs": []
    }
  ]
}